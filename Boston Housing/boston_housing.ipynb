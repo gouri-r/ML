{
  "nbformat": 4,
  "nbformat_minor": 0,
  "metadata": {
    "colab": {
      "name": "boston_housing.ipynb",
      "provenance": [],
      "collapsed_sections": []
    },
    "kernelspec": {
      "name": "python3",
      "display_name": "Python 3"
    }
  },
  "cells": [
    {
      "cell_type": "code",
      "metadata": {
        "id": "0bVB1TY4q2nj",
        "outputId": "af45b6b7-5fcf-46c7-fdf5-12a570f5aea6",
        "colab": {
          "base_uri": "https://localhost:8080/",
          "height": 35
        }
      },
      "source": [
        "\n",
        "from keras.datasets import boston_housing\n",
        "boston_housing"
      ],
      "execution_count": null,
      "outputs": [
        {
          "output_type": "execute_result",
          "data": {
            "text/plain": [
              "<module 'keras.datasets.boston_housing' from '/usr/local/lib/python3.6/dist-packages/keras/datasets/boston_housing.py'>"
            ]
          },
          "metadata": {
            "tags": []
          },
          "execution_count": 1
        }
      ]
    },
    {
      "cell_type": "code",
      "metadata": {
        "id": "sG4su0aAspEi",
        "outputId": "550cd60e-6438-45c9-e8fa-854d2e14ae04",
        "colab": {
          "base_uri": "https://localhost:8080/",
          "height": 87
        }
      },
      "source": [
        "(X_train,y_train) , (X_test,y_test)=boston_housing.load_data()\n",
        "print('train %s  %s'%(X_train.shape,y_train.shape))\n",
        "print('test %s  %s'%(X_test.shape,y_test.shape))"
      ],
      "execution_count": null,
      "outputs": [
        {
          "output_type": "stream",
          "text": [
            "Downloading data from https://storage.googleapis.com/tensorflow/tf-keras-datasets/boston_housing.npz\n",
            "57344/57026 [==============================] - 0s 0us/step\n",
            "train (404, 13)  (404,)\n",
            "test (102, 13)  (102,)\n"
          ],
          "name": "stdout"
        }
      ]
    },
    {
      "cell_type": "code",
      "metadata": {
        "id": "luk-A5TsHd-2",
        "outputId": "21e33381-aaf0-4d53-ea24-6d2fc07eef3a",
        "colab": {
          "base_uri": "https://localhost:8080/",
          "height": 415
        }
      },
      "source": [
        "import pandas as pd\n",
        "\n",
        "pd.DataFrame(X_train)"
      ],
      "execution_count": null,
      "outputs": [
        {
          "output_type": "execute_result",
          "data": {
            "text/html": [
              "<div>\n",
              "<style scoped>\n",
              "    .dataframe tbody tr th:only-of-type {\n",
              "        vertical-align: middle;\n",
              "    }\n",
              "\n",
              "    .dataframe tbody tr th {\n",
              "        vertical-align: top;\n",
              "    }\n",
              "\n",
              "    .dataframe thead th {\n",
              "        text-align: right;\n",
              "    }\n",
              "</style>\n",
              "<table border=\"1\" class=\"dataframe\">\n",
              "  <thead>\n",
              "    <tr style=\"text-align: right;\">\n",
              "      <th></th>\n",
              "      <th>0</th>\n",
              "      <th>1</th>\n",
              "      <th>2</th>\n",
              "      <th>3</th>\n",
              "      <th>4</th>\n",
              "      <th>5</th>\n",
              "      <th>6</th>\n",
              "      <th>7</th>\n",
              "      <th>8</th>\n",
              "      <th>9</th>\n",
              "      <th>10</th>\n",
              "      <th>11</th>\n",
              "      <th>12</th>\n",
              "    </tr>\n",
              "  </thead>\n",
              "  <tbody>\n",
              "    <tr>\n",
              "      <th>0</th>\n",
              "      <td>1.23247</td>\n",
              "      <td>0.0</td>\n",
              "      <td>8.14</td>\n",
              "      <td>0.0</td>\n",
              "      <td>0.5380</td>\n",
              "      <td>6.142</td>\n",
              "      <td>91.7</td>\n",
              "      <td>3.9769</td>\n",
              "      <td>4.0</td>\n",
              "      <td>307.0</td>\n",
              "      <td>21.0</td>\n",
              "      <td>396.90</td>\n",
              "      <td>18.72</td>\n",
              "    </tr>\n",
              "    <tr>\n",
              "      <th>1</th>\n",
              "      <td>0.02177</td>\n",
              "      <td>82.5</td>\n",
              "      <td>2.03</td>\n",
              "      <td>0.0</td>\n",
              "      <td>0.4150</td>\n",
              "      <td>7.610</td>\n",
              "      <td>15.7</td>\n",
              "      <td>6.2700</td>\n",
              "      <td>2.0</td>\n",
              "      <td>348.0</td>\n",
              "      <td>14.7</td>\n",
              "      <td>395.38</td>\n",
              "      <td>3.11</td>\n",
              "    </tr>\n",
              "    <tr>\n",
              "      <th>2</th>\n",
              "      <td>4.89822</td>\n",
              "      <td>0.0</td>\n",
              "      <td>18.10</td>\n",
              "      <td>0.0</td>\n",
              "      <td>0.6310</td>\n",
              "      <td>4.970</td>\n",
              "      <td>100.0</td>\n",
              "      <td>1.3325</td>\n",
              "      <td>24.0</td>\n",
              "      <td>666.0</td>\n",
              "      <td>20.2</td>\n",
              "      <td>375.52</td>\n",
              "      <td>3.26</td>\n",
              "    </tr>\n",
              "    <tr>\n",
              "      <th>3</th>\n",
              "      <td>0.03961</td>\n",
              "      <td>0.0</td>\n",
              "      <td>5.19</td>\n",
              "      <td>0.0</td>\n",
              "      <td>0.5150</td>\n",
              "      <td>6.037</td>\n",
              "      <td>34.5</td>\n",
              "      <td>5.9853</td>\n",
              "      <td>5.0</td>\n",
              "      <td>224.0</td>\n",
              "      <td>20.2</td>\n",
              "      <td>396.90</td>\n",
              "      <td>8.01</td>\n",
              "    </tr>\n",
              "    <tr>\n",
              "      <th>4</th>\n",
              "      <td>3.69311</td>\n",
              "      <td>0.0</td>\n",
              "      <td>18.10</td>\n",
              "      <td>0.0</td>\n",
              "      <td>0.7130</td>\n",
              "      <td>6.376</td>\n",
              "      <td>88.4</td>\n",
              "      <td>2.5671</td>\n",
              "      <td>24.0</td>\n",
              "      <td>666.0</td>\n",
              "      <td>20.2</td>\n",
              "      <td>391.43</td>\n",
              "      <td>14.65</td>\n",
              "    </tr>\n",
              "    <tr>\n",
              "      <th>...</th>\n",
              "      <td>...</td>\n",
              "      <td>...</td>\n",
              "      <td>...</td>\n",
              "      <td>...</td>\n",
              "      <td>...</td>\n",
              "      <td>...</td>\n",
              "      <td>...</td>\n",
              "      <td>...</td>\n",
              "      <td>...</td>\n",
              "      <td>...</td>\n",
              "      <td>...</td>\n",
              "      <td>...</td>\n",
              "      <td>...</td>\n",
              "    </tr>\n",
              "    <tr>\n",
              "      <th>399</th>\n",
              "      <td>0.21977</td>\n",
              "      <td>0.0</td>\n",
              "      <td>6.91</td>\n",
              "      <td>0.0</td>\n",
              "      <td>0.4480</td>\n",
              "      <td>5.602</td>\n",
              "      <td>62.0</td>\n",
              "      <td>6.0877</td>\n",
              "      <td>3.0</td>\n",
              "      <td>233.0</td>\n",
              "      <td>17.9</td>\n",
              "      <td>396.90</td>\n",
              "      <td>16.20</td>\n",
              "    </tr>\n",
              "    <tr>\n",
              "      <th>400</th>\n",
              "      <td>0.16211</td>\n",
              "      <td>20.0</td>\n",
              "      <td>6.96</td>\n",
              "      <td>0.0</td>\n",
              "      <td>0.4640</td>\n",
              "      <td>6.240</td>\n",
              "      <td>16.3</td>\n",
              "      <td>4.4290</td>\n",
              "      <td>3.0</td>\n",
              "      <td>223.0</td>\n",
              "      <td>18.6</td>\n",
              "      <td>396.90</td>\n",
              "      <td>6.59</td>\n",
              "    </tr>\n",
              "    <tr>\n",
              "      <th>401</th>\n",
              "      <td>0.03466</td>\n",
              "      <td>35.0</td>\n",
              "      <td>6.06</td>\n",
              "      <td>0.0</td>\n",
              "      <td>0.4379</td>\n",
              "      <td>6.031</td>\n",
              "      <td>23.3</td>\n",
              "      <td>6.6407</td>\n",
              "      <td>1.0</td>\n",
              "      <td>304.0</td>\n",
              "      <td>16.9</td>\n",
              "      <td>362.25</td>\n",
              "      <td>7.83</td>\n",
              "    </tr>\n",
              "    <tr>\n",
              "      <th>402</th>\n",
              "      <td>2.14918</td>\n",
              "      <td>0.0</td>\n",
              "      <td>19.58</td>\n",
              "      <td>0.0</td>\n",
              "      <td>0.8710</td>\n",
              "      <td>5.709</td>\n",
              "      <td>98.5</td>\n",
              "      <td>1.6232</td>\n",
              "      <td>5.0</td>\n",
              "      <td>403.0</td>\n",
              "      <td>14.7</td>\n",
              "      <td>261.95</td>\n",
              "      <td>15.79</td>\n",
              "    </tr>\n",
              "    <tr>\n",
              "      <th>403</th>\n",
              "      <td>0.01439</td>\n",
              "      <td>60.0</td>\n",
              "      <td>2.93</td>\n",
              "      <td>0.0</td>\n",
              "      <td>0.4010</td>\n",
              "      <td>6.604</td>\n",
              "      <td>18.8</td>\n",
              "      <td>6.2196</td>\n",
              "      <td>1.0</td>\n",
              "      <td>265.0</td>\n",
              "      <td>15.6</td>\n",
              "      <td>376.70</td>\n",
              "      <td>4.38</td>\n",
              "    </tr>\n",
              "  </tbody>\n",
              "</table>\n",
              "<p>404 rows × 13 columns</p>\n",
              "</div>"
            ],
            "text/plain": [
              "          0     1      2    3       4   ...    8      9     10      11     12\n",
              "0    1.23247   0.0   8.14  0.0  0.5380  ...   4.0  307.0  21.0  396.90  18.72\n",
              "1    0.02177  82.5   2.03  0.0  0.4150  ...   2.0  348.0  14.7  395.38   3.11\n",
              "2    4.89822   0.0  18.10  0.0  0.6310  ...  24.0  666.0  20.2  375.52   3.26\n",
              "3    0.03961   0.0   5.19  0.0  0.5150  ...   5.0  224.0  20.2  396.90   8.01\n",
              "4    3.69311   0.0  18.10  0.0  0.7130  ...  24.0  666.0  20.2  391.43  14.65\n",
              "..       ...   ...    ...  ...     ...  ...   ...    ...   ...     ...    ...\n",
              "399  0.21977   0.0   6.91  0.0  0.4480  ...   3.0  233.0  17.9  396.90  16.20\n",
              "400  0.16211  20.0   6.96  0.0  0.4640  ...   3.0  223.0  18.6  396.90   6.59\n",
              "401  0.03466  35.0   6.06  0.0  0.4379  ...   1.0  304.0  16.9  362.25   7.83\n",
              "402  2.14918   0.0  19.58  0.0  0.8710  ...   5.0  403.0  14.7  261.95  15.79\n",
              "403  0.01439  60.0   2.93  0.0  0.4010  ...   1.0  265.0  15.6  376.70   4.38\n",
              "\n",
              "[404 rows x 13 columns]"
            ]
          },
          "metadata": {
            "tags": []
          },
          "execution_count": 3
        }
      ]
    },
    {
      "cell_type": "code",
      "metadata": {
        "id": "cuJYZA1-BZnd"
      },
      "source": [
        "mean = X_train.mean(axis=0)\n",
        "std = X_train.std(axis=0)\n",
        "\n",
        "X_train = (X_train - mean) / std\n",
        "X_test = (X_test - mean) / std"
      ],
      "execution_count": null,
      "outputs": []
    },
    {
      "cell_type": "code",
      "metadata": {
        "id": "ogjRgt0cuJjl"
      },
      "source": [
        "from keras.models import Sequential\n",
        "from keras.layers import Dense\n",
        "\n",
        "model=Sequential() #initializes ANN\n",
        "model.add(Dense(units=64, activation='relu', input_dim=13)) #units-no of neurons , ip dimentions because there are 13 features\n",
        "model.add(Dense(units=64, activation='relu'))\n",
        "model.add(Dense(units=64, activation='relu'))\n",
        "model.add(Dense(units=64, activation='relu'))\n",
        "model.add(Dense(units=64, activation='relu'))\n",
        "model.add(Dense(units=1))\n",
        "\n",
        "#https://towardsdatascience.com/deep-learning-which-loss-and-activation-functions-should-i-use-ac02f1c56aa8"
      ],
      "execution_count": null,
      "outputs": []
    },
    {
      "cell_type": "code",
      "metadata": {
        "id": "G8tCo8RvyVmI"
      },
      "source": [
        "\n",
        "model.compile(optimizer='adam',loss='mean_squared_error',metrics=['mae'])\n",
        "\n",
        "#tf.keras.optimizers.RMSprop(0.001)\n",
        "#https://stackoverflow.com/questions/45632549/why-is-the-accuracy-for-my-keras-model-always-0-when-training"
      ],
      "execution_count": null,
      "outputs": []
    },
    {
      "cell_type": "code",
      "metadata": {
        "id": "b4cfSOx6zzDp",
        "outputId": "a2392cb1-8bd7-4870-b460-e9a3ad6d4bdf",
        "colab": {
          "base_uri": "https://localhost:8080/",
          "height": 1000
        }
      },
      "source": [
        "#train the model\n",
        "\n",
        "x=model.fit(X_train,y_train,epochs=30)"
      ],
      "execution_count": null,
      "outputs": [
        {
          "output_type": "stream",
          "text": [
            "Epoch 1/30\n",
            "404/404 [==============================] - 0s 79us/step - loss: 0.9501 - mae: 0.6910\n",
            "Epoch 2/30\n",
            "404/404 [==============================] - 0s 57us/step - loss: 1.1116 - mae: 0.7669\n",
            "Epoch 3/30\n",
            "404/404 [==============================] - 0s 67us/step - loss: 0.9015 - mae: 0.6531\n",
            "Epoch 4/30\n",
            "404/404 [==============================] - 0s 57us/step - loss: 0.8409 - mae: 0.6423\n",
            "Epoch 5/30\n",
            "404/404 [==============================] - 0s 62us/step - loss: 0.7935 - mae: 0.6436\n",
            "Epoch 6/30\n",
            "404/404 [==============================] - 0s 53us/step - loss: 1.0440 - mae: 0.7193\n",
            "Epoch 7/30\n",
            "404/404 [==============================] - 0s 62us/step - loss: 0.9064 - mae: 0.6596\n",
            "Epoch 8/30\n",
            "404/404 [==============================] - 0s 62us/step - loss: 0.7138 - mae: 0.5640\n",
            "Epoch 9/30\n",
            "404/404 [==============================] - 0s 55us/step - loss: 0.7345 - mae: 0.5885\n",
            "Epoch 10/30\n",
            "404/404 [==============================] - 0s 63us/step - loss: 0.9165 - mae: 0.6524\n",
            "Epoch 11/30\n",
            "404/404 [==============================] - 0s 57us/step - loss: 1.0965 - mae: 0.7768\n",
            "Epoch 12/30\n",
            "404/404 [==============================] - 0s 62us/step - loss: 1.0186 - mae: 0.7008\n",
            "Epoch 13/30\n",
            "404/404 [==============================] - 0s 64us/step - loss: 1.2550 - mae: 0.8587\n",
            "Epoch 14/30\n",
            "404/404 [==============================] - 0s 62us/step - loss: 1.2287 - mae: 0.8564\n",
            "Epoch 15/30\n",
            "404/404 [==============================] - 0s 61us/step - loss: 1.1957 - mae: 0.8080\n",
            "Epoch 16/30\n",
            "404/404 [==============================] - 0s 60us/step - loss: 1.0356 - mae: 0.7526\n",
            "Epoch 17/30\n",
            "404/404 [==============================] - 0s 63us/step - loss: 0.8861 - mae: 0.6913\n",
            "Epoch 18/30\n",
            "404/404 [==============================] - 0s 57us/step - loss: 0.7169 - mae: 0.5808\n",
            "Epoch 19/30\n",
            "404/404 [==============================] - 0s 61us/step - loss: 0.7870 - mae: 0.6120\n",
            "Epoch 20/30\n",
            "404/404 [==============================] - 0s 61us/step - loss: 0.8341 - mae: 0.6426\n",
            "Epoch 21/30\n",
            "404/404 [==============================] - 0s 68us/step - loss: 0.9600 - mae: 0.7335\n",
            "Epoch 22/30\n",
            "404/404 [==============================] - 0s 70us/step - loss: 0.8032 - mae: 0.6237\n",
            "Epoch 23/30\n",
            "404/404 [==============================] - 0s 65us/step - loss: 0.7022 - mae: 0.5871\n",
            "Epoch 24/30\n",
            "404/404 [==============================] - 0s 66us/step - loss: 0.6740 - mae: 0.5679\n",
            "Epoch 25/30\n",
            "404/404 [==============================] - 0s 60us/step - loss: 0.7881 - mae: 0.6407\n",
            "Epoch 26/30\n",
            "404/404 [==============================] - 0s 59us/step - loss: 0.9369 - mae: 0.6752\n",
            "Epoch 27/30\n",
            "404/404 [==============================] - 0s 62us/step - loss: 0.9559 - mae: 0.7374\n",
            "Epoch 28/30\n",
            "404/404 [==============================] - 0s 79us/step - loss: 0.9982 - mae: 0.7390\n",
            "Epoch 29/30\n",
            "404/404 [==============================] - 0s 66us/step - loss: 1.2132 - mae: 0.8193\n",
            "Epoch 30/30\n",
            "404/404 [==============================] - 0s 61us/step - loss: 1.0008 - mae: 0.7264\n"
          ],
          "name": "stdout"
        }
      ]
    },
    {
      "cell_type": "code",
      "metadata": {
        "id": "Z5eiez4K0UR_",
        "outputId": "081ee8d2-578c-4817-a072-c1b6b24a2d26",
        "colab": {
          "base_uri": "https://localhost:8080/",
          "height": 52
        }
      },
      "source": [
        "model.evaluate(X_test,y_test)\n",
        "\n",
        "#mae is 2.5 -> we are still 2500 off real target "
      ],
      "execution_count": null,
      "outputs": [
        {
          "output_type": "stream",
          "text": [
            "102/102 [==============================] - 0s 104us/step\n"
          ],
          "name": "stdout"
        },
        {
          "output_type": "execute_result",
          "data": {
            "text/plain": [
              "[12.441842247458066, 2.405829668045044]"
            ]
          },
          "metadata": {
            "tags": []
          },
          "execution_count": 239
        }
      ]
    },
    {
      "cell_type": "code",
      "metadata": {
        "id": "3fLctFCmLqmz",
        "outputId": "da19b877-ca0c-47d4-ae23-e32fe91d1356",
        "colab": {
          "base_uri": "https://localhost:8080/",
          "height": 191
        }
      },
      "source": [
        "y_test"
      ],
      "execution_count": null,
      "outputs": [
        {
          "output_type": "execute_result",
          "data": {
            "text/plain": [
              "array([ 7.2, 18.8, 19. , 27. , 22.2, 24.5, 31.2, 22.9, 20.5, 23.2, 18.6,\n",
              "       14.5, 17.8, 50. , 20.8, 24.3, 24.2, 19.8, 19.1, 22.7, 12. , 10.2,\n",
              "       20. , 18.5, 20.9, 23. , 27.5, 30.1,  9.5, 22. , 21.2, 14.1, 33.1,\n",
              "       23.4, 20.1,  7.4, 15.4, 23.8, 20.1, 24.5, 33. , 28.4, 14.1, 46.7,\n",
              "       32.5, 29.6, 28.4, 19.8, 20.2, 25. , 35.4, 20.3,  9.7, 14.5, 34.9,\n",
              "       26.6,  7.2, 50. , 32.4, 21.6, 29.8, 13.1, 27.5, 21.2, 23.1, 21.9,\n",
              "       13. , 23.2,  8.1,  5.6, 21.7, 29.6, 19.6,  7. , 26.4, 18.9, 20.9,\n",
              "       28.1, 35.4, 10.2, 24.3, 43.1, 17.6, 15.4, 16.2, 27.1, 21.4, 21.5,\n",
              "       22.4, 25. , 16.6, 18.6, 22. , 42.8, 35.1, 21.5, 36. , 21.9, 24.1,\n",
              "       50. , 26.7, 25. ])"
            ]
          },
          "metadata": {
            "tags": []
          },
          "execution_count": 230
        }
      ]
    },
    {
      "cell_type": "code",
      "metadata": {
        "id": "zgB4OSV4LjZx",
        "outputId": "3e83f555-b676-445f-ae8b-cc6170b406c1",
        "colab": {
          "base_uri": "https://localhost:8080/",
          "height": 1000
        }
      },
      "source": [
        "print(model.predict(X_test))"
      ],
      "execution_count": null,
      "outputs": [
        {
          "output_type": "stream",
          "text": [
            "[[ 7.932889 ]\n",
            " [17.97175  ]\n",
            " [18.968338 ]\n",
            " [28.661037 ]\n",
            " [22.242273 ]\n",
            " [23.672695 ]\n",
            " [28.485601 ]\n",
            " [21.088615 ]\n",
            " [18.014383 ]\n",
            " [19.113178 ]\n",
            " [17.449121 ]\n",
            " [15.630513 ]\n",
            " [14.583008 ]\n",
            " [41.914898 ]\n",
            " [18.279196 ]\n",
            " [20.417543 ]\n",
            " [23.935904 ]\n",
            " [16.28696  ]\n",
            " [19.754221 ]\n",
            " [16.890482 ]\n",
            " [10.971703 ]\n",
            " [10.125139 ]\n",
            " [20.634233 ]\n",
            " [15.720668 ]\n",
            " [22.625273 ]\n",
            " [20.234098 ]\n",
            " [29.134207 ]\n",
            " [32.271698 ]\n",
            " [11.858118 ]\n",
            " [18.84271  ]\n",
            " [19.754362 ]\n",
            " [15.071269 ]\n",
            " [31.680677 ]\n",
            " [22.248528 ]\n",
            " [20.417469 ]\n",
            " [ 6.549246 ]\n",
            " [18.427198 ]\n",
            " [18.476557 ]\n",
            " [18.81209  ]\n",
            " [26.249441 ]\n",
            " [34.0461   ]\n",
            " [24.268694 ]\n",
            " [12.051209 ]\n",
            " [44.278736 ]\n",
            " [30.931646 ]\n",
            " [29.376287 ]\n",
            " [27.590351 ]\n",
            " [18.104803 ]\n",
            " [21.10424  ]\n",
            " [22.048855 ]\n",
            " [35.207245 ]\n",
            " [20.508383 ]\n",
            " [12.628788 ]\n",
            " [12.703702 ]\n",
            " [37.03313  ]\n",
            " [27.07923  ]\n",
            " [ 9.79215  ]\n",
            " [49.751556 ]\n",
            " [33.40854  ]\n",
            " [23.205544 ]\n",
            " [21.704493 ]\n",
            " [13.677242 ]\n",
            " [16.238728 ]\n",
            " [20.073893 ]\n",
            " [22.57783  ]\n",
            " [21.962542 ]\n",
            " [12.9476385]\n",
            " [20.656044 ]\n",
            " [18.292261 ]\n",
            " [ 8.483186 ]\n",
            " [15.446874 ]\n",
            " [28.127266 ]\n",
            " [22.666527 ]\n",
            " [13.06183  ]\n",
            " [24.691534 ]\n",
            " [19.04733  ]\n",
            " [17.857275 ]\n",
            " [23.255629 ]\n",
            " [35.54509  ]\n",
            " [ 8.789176 ]\n",
            " [21.406143 ]\n",
            " [38.486904 ]\n",
            " [15.674762 ]\n",
            " [14.396111 ]\n",
            " [15.7502365]\n",
            " [15.026582 ]\n",
            " [22.488997 ]\n",
            " [18.689358 ]\n",
            " [23.388315 ]\n",
            " [25.229134 ]\n",
            " [17.150862 ]\n",
            " [19.854755 ]\n",
            " [25.222845 ]\n",
            " [41.377552 ]\n",
            " [36.279438 ]\n",
            " [21.691038 ]\n",
            " [35.09558  ]\n",
            " [35.937622 ]\n",
            " [25.7681   ]\n",
            " [45.023182 ]\n",
            " [32.353832 ]\n",
            " [20.528917 ]]\n"
          ],
          "name": "stdout"
        }
      ]
    }
  ]
}