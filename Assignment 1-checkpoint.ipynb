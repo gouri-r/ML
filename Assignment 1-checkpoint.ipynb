{
 "cells": [
  {
   "cell_type": "code",
   "execution_count": null,
   "id": "246fc9e3",
   "metadata": {},
   "outputs": [],
   "source": [
    "import os\n",
    "import torch\n",
    "import torchvision\n",
    "import torchvision.transforms as transforms\n",
    "from torchvision.datasets import ImageFolder"
   ]
  },
  {
   "cell_type": "code",
   "execution_count": 2,
   "id": "bc79f802",
   "metadata": {},
   "outputs": [],
   "source": [
    "base_dir = os.path.abspath('')\n",
    "img_dir = os.path.join(base_dir,\"flowers\")\n",
    "#data_set = 'C:\\Users\\GOURI\\Downloads\\flowers\\'"
   ]
  },
  {
   "cell_type": "code",
   "execution_count": 27,
   "id": "ebc2d7f9",
   "metadata": {},
   "outputs": [
    {
     "name": "stdout",
     "output_type": "stream",
     "text": [
      "['daisy', 'dandelion', 'rose', 'sunflower', 'tulip']\n"
     ]
    }
   ],
   "source": [
    "my_list = os.listdir(img_dir)\n",
    "print(my_list)"
   ]
  },
  {
   "cell_type": "code",
   "execution_count": 4,
   "id": "9c9a143b",
   "metadata": {},
   "outputs": [],
   "source": [
    "'''transform = torchvision.transforms.Compose(\n",
    "    [ # Applying Augmentation\n",
    "        torchvision.transforms.Resize((224, 224)),\n",
    "        torchvision.transforms.RandomHorizontalFlip(p=0.5),\n",
    "        torchvision.transforms.RandomVerticalFlip(p=0.5),\n",
    "        torchvision.transforms.RandomRotation(40),\n",
    "        torchvision.transforms.ToTensor(),\n",
    "        torchvision.transforms.Normalize(\n",
    "            mean=[0.4914, 0.4822, 0.4465], std=[0.2023, 0.1994, 0.2010]\n",
    "        ),\n",
    "    ]\n",
    ")\n",
    "\n",
    "data_set = ImageFolder(img_dir, transform)'''"
   ]
  },
  {
   "cell_type": "code",
   "execution_count": 8,
   "id": "a803b2f9",
   "metadata": {},
   "outputs": [
    {
     "name": "stdout",
     "output_type": "stream",
     "text": [
      "764\n",
      "1052\n",
      "784\n",
      "733\n",
      "984\n"
     ]
    }
   ],
   "source": [
    "print(len(os.listdir(img_dir+'/daisy/')))\n",
    "print(len(os.listdir(img_dir+'/dandelion/')))\n",
    "print(len(os.listdir(img_dir+'/rose/')))\n",
    "print(len(os.listdir(img_dir+'/sunflower/')))\n",
    "print(len(os.listdir(img_dir+'/tulip/')))"
   ]
  },
  {
   "cell_type": "code",
   "execution_count": 11,
   "id": "635cfdb2",
   "metadata": {},
   "outputs": [],
   "source": [
    "labels = {\n",
    "    0: 'daisy',\n",
    "    1: 'dandelion',\n",
    "    2: 'rose',\n",
    "    3: 'sunflower',\n",
    "    4: 'tulip'\n",
    "}"
   ]
  },
  {
   "cell_type": "code",
   "execution_count": 14,
   "id": "a3a69f20",
   "metadata": {},
   "outputs": [],
   "source": [
    "import splitfolders"
   ]
  },
  {
   "cell_type": "code",
   "execution_count": 21,
   "id": "be61077b",
   "metadata": {},
   "outputs": [],
   "source": [
    "splitfolders.ratio(img_dir, output=\"Splitted Data\",seed=42,ratio=(0.7,.0,0.3))"
   ]
  },
  {
   "cell_type": "code",
   "execution_count": 37,
   "id": "850901ad",
   "metadata": {},
   "outputs": [],
   "source": [
    "train_data_path = 'D:\\Python\\Splitted Data\\train'\n",
    "test_data_path = 'D:\\Python\\Splitted Data\\test'"
   ]
  },
  {
   "cell_type": "code",
   "execution_count": 34,
   "id": "2853a3ca",
   "metadata": {},
   "outputs": [],
   "source": [
    "train_dir = os.path.join(base_dir,train_data_path)"
   ]
  },
  {
   "cell_type": "code",
   "execution_count": 1,
   "id": "9ec05b94",
   "metadata": {},
   "outputs": [
    {
     "ename": "NameError",
     "evalue": "name 'os' is not defined",
     "output_type": "error",
     "traceback": [
      "\u001b[1;31m---------------------------------------------------------------------------\u001b[0m",
      "\u001b[1;31mNameError\u001b[0m                                 Traceback (most recent call last)",
      "Input \u001b[1;32mIn [1]\u001b[0m, in \u001b[0;36m<module>\u001b[1;34m\u001b[0m\n\u001b[1;32m----> 1\u001b[0m tr_dir \u001b[38;5;241m=\u001b[39m \u001b[43mos\u001b[49m\u001b[38;5;241m.\u001b[39mpath\u001b[38;5;241m.\u001b[39mjoin(base_dir,\u001b[38;5;124m\"\u001b[39m\u001b[38;5;124mtrain\u001b[39m\u001b[38;5;124m\"\u001b[39m)\n",
      "\u001b[1;31mNameError\u001b[0m: name 'os' is not defined"
     ]
    }
   ],
   "source": [
    "tr_dir = os.path.join(base_dir,\"train\")"
   ]
  },
  {
   "cell_type": "code",
   "execution_count": 35,
   "id": "98fc33e6",
   "metadata": {},
   "outputs": [
    {
     "ename": "OSError",
     "evalue": "[WinError 123] The filename, directory name, or volume label syntax is incorrect: 'D:\\\\Python\\\\Splitted Data\\train/daisy/'",
     "output_type": "error",
     "traceback": [
      "\u001b[1;31m---------------------------------------------------------------------------\u001b[0m",
      "\u001b[1;31mOSError\u001b[0m                                   Traceback (most recent call last)",
      "Input \u001b[1;32mIn [35]\u001b[0m, in \u001b[0;36m<module>\u001b[1;34m\u001b[0m\n\u001b[1;32m----> 1\u001b[0m \u001b[38;5;28mprint\u001b[39m(\u001b[38;5;28mlen\u001b[39m(\u001b[43mos\u001b[49m\u001b[38;5;241;43m.\u001b[39;49m\u001b[43mlistdir\u001b[49m\u001b[43m(\u001b[49m\u001b[43mtrain_dir\u001b[49m\u001b[38;5;241;43m+\u001b[39;49m\u001b[38;5;124;43m'\u001b[39;49m\u001b[38;5;124;43m/daisy/\u001b[39;49m\u001b[38;5;124;43m'\u001b[39;49m\u001b[43m)\u001b[49m))\n\u001b[0;32m      2\u001b[0m \u001b[38;5;28mprint\u001b[39m(\u001b[38;5;28mlen\u001b[39m(os\u001b[38;5;241m.\u001b[39mlistdir(train_dir\u001b[38;5;241m+\u001b[39m\u001b[38;5;124m'\u001b[39m\u001b[38;5;124m/dandelion/\u001b[39m\u001b[38;5;124m'\u001b[39m)))\n\u001b[0;32m      3\u001b[0m \u001b[38;5;28mprint\u001b[39m(\u001b[38;5;28mlen\u001b[39m(os\u001b[38;5;241m.\u001b[39mlistdir(train_dir\u001b[38;5;241m+\u001b[39m\u001b[38;5;124m'\u001b[39m\u001b[38;5;124m/rose/\u001b[39m\u001b[38;5;124m'\u001b[39m)))\n",
      "\u001b[1;31mOSError\u001b[0m: [WinError 123] The filename, directory name, or volume label syntax is incorrect: 'D:\\\\Python\\\\Splitted Data\\train/daisy/'"
     ]
    }
   ],
   "source": [
    "print(len(os.listdir(train_dir+'/daisy/')))\n",
    "print(len(os.listdir(train_dir+'/dandelion/')))\n",
    "print(len(os.listdir(train_dir+'/rose/')))\n",
    "print(len(os.listdir(train_dir+'/sunflower/')))\n",
    "print(len(os.listdir(train_dir+'/tulip/')))"
   ]
  },
  {
   "cell_type": "code",
   "execution_count": null,
   "id": "568ae9f5",
   "metadata": {},
   "outputs": [],
   "source": []
  }
 ],
 "metadata": {
  "kernelspec": {
   "display_name": "Python 3 (ipykernel)",
   "language": "python",
   "name": "python3"
  },
  "language_info": {
   "codemirror_mode": {
    "name": "ipython",
    "version": 3
   },
   "file_extension": ".py",
   "mimetype": "text/x-python",
   "name": "python",
   "nbconvert_exporter": "python",
   "pygments_lexer": "ipython3",
   "version": "3.8.6"
  }
 },
 "nbformat": 4,
 "nbformat_minor": 5
}
